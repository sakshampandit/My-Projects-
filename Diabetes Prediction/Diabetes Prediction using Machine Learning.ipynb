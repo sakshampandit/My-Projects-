{
 "cells": [
  {
   "cell_type": "markdown",
   "id": "b7effd29",
   "metadata": {},
   "source": [
    "# Diabetes Prediction Project (Using Machine Learning)"
   ]
  },
  {
   "cell_type": "code",
   "execution_count": 1,
   "id": "2e63d47a",
   "metadata": {},
   "outputs": [],
   "source": [
    "import pandas as pd"
   ]
  },
  {
   "cell_type": "code",
   "execution_count": 2,
   "id": "595c57e0",
   "metadata": {},
   "outputs": [],
   "source": [
    "data=pd.read_csv('diabetes.csv')"
   ]
  },
  {
   "cell_type": "markdown",
   "id": "c022dbe7",
   "metadata": {},
   "source": [
    "# 1. Display Top 5 Rows of the Dataset"
   ]
  },
  {
   "cell_type": "code",
   "execution_count": 3,
   "id": "a9341a33",
   "metadata": {},
   "outputs": [
    {
     "data": {
      "text/html": [
       "<div>\n",
       "<style scoped>\n",
       "    .dataframe tbody tr th:only-of-type {\n",
       "        vertical-align: middle;\n",
       "    }\n",
       "\n",
       "    .dataframe tbody tr th {\n",
       "        vertical-align: top;\n",
       "    }\n",
       "\n",
       "    .dataframe thead th {\n",
       "        text-align: right;\n",
       "    }\n",
       "</style>\n",
       "<table border=\"1\" class=\"dataframe\">\n",
       "  <thead>\n",
       "    <tr style=\"text-align: right;\">\n",
       "      <th></th>\n",
       "      <th>Pregnancies</th>\n",
       "      <th>Glucose</th>\n",
       "      <th>BloodPressure</th>\n",
       "      <th>SkinThickness</th>\n",
       "      <th>Insulin</th>\n",
       "      <th>BMI</th>\n",
       "      <th>DiabetesPedigreeFunction</th>\n",
       "      <th>Age</th>\n",
       "      <th>Outcome</th>\n",
       "    </tr>\n",
       "  </thead>\n",
       "  <tbody>\n",
       "    <tr>\n",
       "      <th>0</th>\n",
       "      <td>6</td>\n",
       "      <td>148</td>\n",
       "      <td>72</td>\n",
       "      <td>35</td>\n",
       "      <td>0</td>\n",
       "      <td>33.6</td>\n",
       "      <td>0.627</td>\n",
       "      <td>50</td>\n",
       "      <td>1</td>\n",
       "    </tr>\n",
       "    <tr>\n",
       "      <th>1</th>\n",
       "      <td>1</td>\n",
       "      <td>85</td>\n",
       "      <td>66</td>\n",
       "      <td>29</td>\n",
       "      <td>0</td>\n",
       "      <td>26.6</td>\n",
       "      <td>0.351</td>\n",
       "      <td>31</td>\n",
       "      <td>0</td>\n",
       "    </tr>\n",
       "    <tr>\n",
       "      <th>2</th>\n",
       "      <td>8</td>\n",
       "      <td>183</td>\n",
       "      <td>64</td>\n",
       "      <td>0</td>\n",
       "      <td>0</td>\n",
       "      <td>23.3</td>\n",
       "      <td>0.672</td>\n",
       "      <td>32</td>\n",
       "      <td>1</td>\n",
       "    </tr>\n",
       "    <tr>\n",
       "      <th>3</th>\n",
       "      <td>1</td>\n",
       "      <td>89</td>\n",
       "      <td>66</td>\n",
       "      <td>23</td>\n",
       "      <td>94</td>\n",
       "      <td>28.1</td>\n",
       "      <td>0.167</td>\n",
       "      <td>21</td>\n",
       "      <td>0</td>\n",
       "    </tr>\n",
       "    <tr>\n",
       "      <th>4</th>\n",
       "      <td>0</td>\n",
       "      <td>137</td>\n",
       "      <td>40</td>\n",
       "      <td>35</td>\n",
       "      <td>168</td>\n",
       "      <td>43.1</td>\n",
       "      <td>2.288</td>\n",
       "      <td>33</td>\n",
       "      <td>1</td>\n",
       "    </tr>\n",
       "  </tbody>\n",
       "</table>\n",
       "</div>"
      ],
      "text/plain": [
       "   Pregnancies  Glucose  BloodPressure  SkinThickness  Insulin   BMI  \\\n",
       "0            6      148             72             35        0  33.6   \n",
       "1            1       85             66             29        0  26.6   \n",
       "2            8      183             64              0        0  23.3   \n",
       "3            1       89             66             23       94  28.1   \n",
       "4            0      137             40             35      168  43.1   \n",
       "\n",
       "   DiabetesPedigreeFunction  Age  Outcome  \n",
       "0                     0.627   50        1  \n",
       "1                     0.351   31        0  \n",
       "2                     0.672   32        1  \n",
       "3                     0.167   21        0  \n",
       "4                     2.288   33        1  "
      ]
     },
     "execution_count": 3,
     "metadata": {},
     "output_type": "execute_result"
    }
   ],
   "source": [
    "data.head()"
   ]
  },
  {
   "cell_type": "code",
   "execution_count": 4,
   "id": "e13c45dd",
   "metadata": {},
   "outputs": [],
   "source": [
    "# in this data set includes many independent variables \n",
    "# it also consist of target variable which is called as the dependent variable"
   ]
  },
  {
   "cell_type": "markdown",
   "id": "aeeaa5bc",
   "metadata": {},
   "source": [
    "# 2. Check Last 5 Rows of the Dataset"
   ]
  },
  {
   "cell_type": "code",
   "execution_count": 5,
   "id": "f8c0ce09",
   "metadata": {},
   "outputs": [
    {
     "data": {
      "text/html": [
       "<div>\n",
       "<style scoped>\n",
       "    .dataframe tbody tr th:only-of-type {\n",
       "        vertical-align: middle;\n",
       "    }\n",
       "\n",
       "    .dataframe tbody tr th {\n",
       "        vertical-align: top;\n",
       "    }\n",
       "\n",
       "    .dataframe thead th {\n",
       "        text-align: right;\n",
       "    }\n",
       "</style>\n",
       "<table border=\"1\" class=\"dataframe\">\n",
       "  <thead>\n",
       "    <tr style=\"text-align: right;\">\n",
       "      <th></th>\n",
       "      <th>Pregnancies</th>\n",
       "      <th>Glucose</th>\n",
       "      <th>BloodPressure</th>\n",
       "      <th>SkinThickness</th>\n",
       "      <th>Insulin</th>\n",
       "      <th>BMI</th>\n",
       "      <th>DiabetesPedigreeFunction</th>\n",
       "      <th>Age</th>\n",
       "      <th>Outcome</th>\n",
       "    </tr>\n",
       "  </thead>\n",
       "  <tbody>\n",
       "    <tr>\n",
       "      <th>763</th>\n",
       "      <td>10</td>\n",
       "      <td>101</td>\n",
       "      <td>76</td>\n",
       "      <td>48</td>\n",
       "      <td>180</td>\n",
       "      <td>32.9</td>\n",
       "      <td>0.171</td>\n",
       "      <td>63</td>\n",
       "      <td>0</td>\n",
       "    </tr>\n",
       "    <tr>\n",
       "      <th>764</th>\n",
       "      <td>2</td>\n",
       "      <td>122</td>\n",
       "      <td>70</td>\n",
       "      <td>27</td>\n",
       "      <td>0</td>\n",
       "      <td>36.8</td>\n",
       "      <td>0.340</td>\n",
       "      <td>27</td>\n",
       "      <td>0</td>\n",
       "    </tr>\n",
       "    <tr>\n",
       "      <th>765</th>\n",
       "      <td>5</td>\n",
       "      <td>121</td>\n",
       "      <td>72</td>\n",
       "      <td>23</td>\n",
       "      <td>112</td>\n",
       "      <td>26.2</td>\n",
       "      <td>0.245</td>\n",
       "      <td>30</td>\n",
       "      <td>0</td>\n",
       "    </tr>\n",
       "    <tr>\n",
       "      <th>766</th>\n",
       "      <td>1</td>\n",
       "      <td>126</td>\n",
       "      <td>60</td>\n",
       "      <td>0</td>\n",
       "      <td>0</td>\n",
       "      <td>30.1</td>\n",
       "      <td>0.349</td>\n",
       "      <td>47</td>\n",
       "      <td>1</td>\n",
       "    </tr>\n",
       "    <tr>\n",
       "      <th>767</th>\n",
       "      <td>1</td>\n",
       "      <td>93</td>\n",
       "      <td>70</td>\n",
       "      <td>31</td>\n",
       "      <td>0</td>\n",
       "      <td>30.4</td>\n",
       "      <td>0.315</td>\n",
       "      <td>23</td>\n",
       "      <td>0</td>\n",
       "    </tr>\n",
       "  </tbody>\n",
       "</table>\n",
       "</div>"
      ],
      "text/plain": [
       "     Pregnancies  Glucose  BloodPressure  SkinThickness  Insulin   BMI  \\\n",
       "763           10      101             76             48      180  32.9   \n",
       "764            2      122             70             27        0  36.8   \n",
       "765            5      121             72             23      112  26.2   \n",
       "766            1      126             60              0        0  30.1   \n",
       "767            1       93             70             31        0  30.4   \n",
       "\n",
       "     DiabetesPedigreeFunction  Age  Outcome  \n",
       "763                     0.171   63        0  \n",
       "764                     0.340   27        0  \n",
       "765                     0.245   30        0  \n",
       "766                     0.349   47        1  \n",
       "767                     0.315   23        0  "
      ]
     },
     "execution_count": 5,
     "metadata": {},
     "output_type": "execute_result"
    }
   ],
   "source": [
    "data.tail()"
   ]
  },
  {
   "cell_type": "markdown",
   "id": "ae93f6b7",
   "metadata": {},
   "source": [
    "# 3. Find the Shape of our Dataset(Number of Rows and Number of Columns)"
   ]
  },
  {
   "cell_type": "code",
   "execution_count": 6,
   "id": "b8aaeac0",
   "metadata": {},
   "outputs": [
    {
     "data": {
      "text/plain": [
       "(768, 9)"
      ]
     },
     "execution_count": 6,
     "metadata": {},
     "output_type": "execute_result"
    }
   ],
   "source": [
    "data.shape"
   ]
  },
  {
   "cell_type": "code",
   "execution_count": 7,
   "id": "a74e2e76",
   "metadata": {},
   "outputs": [
    {
     "name": "stdout",
     "output_type": "stream",
     "text": [
      "Number of Rows 768\n",
      "Number of Columns 9\n"
     ]
    }
   ],
   "source": [
    "# shape is an attribute of pandas not a method.\n",
    "# in this data set there are 768 entries \n",
    "# 9 categories\n",
    "print(\"Number of Rows\",data.shape[0])\n",
    "print(\"Number of Columns\",data.shape[1])"
   ]
  },
  {
   "cell_type": "markdown",
   "id": "3c3027c3",
   "metadata": {},
   "source": [
    "## 4. Get Information About Our Dataset Like Total Number Rows,Total Number of Columns,Datatypes of each column and memory requirement."
   ]
  },
  {
   "cell_type": "code",
   "execution_count": 8,
   "id": "8559949e",
   "metadata": {},
   "outputs": [
    {
     "name": "stdout",
     "output_type": "stream",
     "text": [
      "<class 'pandas.core.frame.DataFrame'>\n",
      "RangeIndex: 768 entries, 0 to 767\n",
      "Data columns (total 9 columns):\n",
      " #   Column                    Non-Null Count  Dtype  \n",
      "---  ------                    --------------  -----  \n",
      " 0   Pregnancies               768 non-null    int64  \n",
      " 1   Glucose                   768 non-null    int64  \n",
      " 2   BloodPressure             768 non-null    int64  \n",
      " 3   SkinThickness             768 non-null    int64  \n",
      " 4   Insulin                   768 non-null    int64  \n",
      " 5   BMI                       768 non-null    float64\n",
      " 6   DiabetesPedigreeFunction  768 non-null    float64\n",
      " 7   Age                       768 non-null    int64  \n",
      " 8   Outcome                   768 non-null    int64  \n",
      "dtypes: float64(2), int64(7)\n",
      "memory usage: 54.1 KB\n"
     ]
    }
   ],
   "source": [
    "data.info()"
   ]
  },
  {
   "cell_type": "code",
   "execution_count": 9,
   "id": "0ed0a9e7",
   "metadata": {},
   "outputs": [],
   "source": [
    "# 768 entries\n",
    "# In Preganancies there are 768 non null entries all are integer type value\n",
    "#  In BMI and DPF are float type value\n",
    "# there are 2 float type values and 7 integer type values."
   ]
  },
  {
   "cell_type": "markdown",
   "id": "17554141",
   "metadata": {},
   "source": [
    "# 5. Check for the Null value"
   ]
  },
  {
   "cell_type": "code",
   "execution_count": 10,
   "id": "72e03068",
   "metadata": {},
   "outputs": [
    {
     "data": {
      "text/plain": [
       "Pregnancies                 0\n",
       "Glucose                     0\n",
       "BloodPressure               0\n",
       "SkinThickness               0\n",
       "Insulin                     0\n",
       "BMI                         0\n",
       "DiabetesPedigreeFunction    0\n",
       "Age                         0\n",
       "Outcome                     0\n",
       "dtype: int64"
      ]
     },
     "execution_count": 10,
     "metadata": {},
     "output_type": "execute_result"
    }
   ],
   "source": [
    "data.isnull().sum()#to check whether we have a null value in any categories"
   ]
  },
  {
   "cell_type": "markdown",
   "id": "56dd58c4",
   "metadata": {},
   "source": [
    "# 6. Get Overall Statistics about the dataset"
   ]
  },
  {
   "cell_type": "code",
   "execution_count": 11,
   "id": "15ac8a11",
   "metadata": {},
   "outputs": [
    {
     "data": {
      "text/html": [
       "<div>\n",
       "<style scoped>\n",
       "    .dataframe tbody tr th:only-of-type {\n",
       "        vertical-align: middle;\n",
       "    }\n",
       "\n",
       "    .dataframe tbody tr th {\n",
       "        vertical-align: top;\n",
       "    }\n",
       "\n",
       "    .dataframe thead th {\n",
       "        text-align: right;\n",
       "    }\n",
       "</style>\n",
       "<table border=\"1\" class=\"dataframe\">\n",
       "  <thead>\n",
       "    <tr style=\"text-align: right;\">\n",
       "      <th></th>\n",
       "      <th>Pregnancies</th>\n",
       "      <th>Glucose</th>\n",
       "      <th>BloodPressure</th>\n",
       "      <th>SkinThickness</th>\n",
       "      <th>Insulin</th>\n",
       "      <th>BMI</th>\n",
       "      <th>DiabetesPedigreeFunction</th>\n",
       "      <th>Age</th>\n",
       "      <th>Outcome</th>\n",
       "    </tr>\n",
       "  </thead>\n",
       "  <tbody>\n",
       "    <tr>\n",
       "      <th>count</th>\n",
       "      <td>768.000000</td>\n",
       "      <td>768.000000</td>\n",
       "      <td>768.000000</td>\n",
       "      <td>768.000000</td>\n",
       "      <td>768.000000</td>\n",
       "      <td>768.000000</td>\n",
       "      <td>768.000000</td>\n",
       "      <td>768.000000</td>\n",
       "      <td>768.000000</td>\n",
       "    </tr>\n",
       "    <tr>\n",
       "      <th>mean</th>\n",
       "      <td>3.845052</td>\n",
       "      <td>120.894531</td>\n",
       "      <td>69.105469</td>\n",
       "      <td>20.536458</td>\n",
       "      <td>79.799479</td>\n",
       "      <td>31.992578</td>\n",
       "      <td>0.471876</td>\n",
       "      <td>33.240885</td>\n",
       "      <td>0.348958</td>\n",
       "    </tr>\n",
       "    <tr>\n",
       "      <th>std</th>\n",
       "      <td>3.369578</td>\n",
       "      <td>31.972618</td>\n",
       "      <td>19.355807</td>\n",
       "      <td>15.952218</td>\n",
       "      <td>115.244002</td>\n",
       "      <td>7.884160</td>\n",
       "      <td>0.331329</td>\n",
       "      <td>11.760232</td>\n",
       "      <td>0.476951</td>\n",
       "    </tr>\n",
       "    <tr>\n",
       "      <th>min</th>\n",
       "      <td>0.000000</td>\n",
       "      <td>0.000000</td>\n",
       "      <td>0.000000</td>\n",
       "      <td>0.000000</td>\n",
       "      <td>0.000000</td>\n",
       "      <td>0.000000</td>\n",
       "      <td>0.078000</td>\n",
       "      <td>21.000000</td>\n",
       "      <td>0.000000</td>\n",
       "    </tr>\n",
       "    <tr>\n",
       "      <th>25%</th>\n",
       "      <td>1.000000</td>\n",
       "      <td>99.000000</td>\n",
       "      <td>62.000000</td>\n",
       "      <td>0.000000</td>\n",
       "      <td>0.000000</td>\n",
       "      <td>27.300000</td>\n",
       "      <td>0.243750</td>\n",
       "      <td>24.000000</td>\n",
       "      <td>0.000000</td>\n",
       "    </tr>\n",
       "    <tr>\n",
       "      <th>50%</th>\n",
       "      <td>3.000000</td>\n",
       "      <td>117.000000</td>\n",
       "      <td>72.000000</td>\n",
       "      <td>23.000000</td>\n",
       "      <td>30.500000</td>\n",
       "      <td>32.000000</td>\n",
       "      <td>0.372500</td>\n",
       "      <td>29.000000</td>\n",
       "      <td>0.000000</td>\n",
       "    </tr>\n",
       "    <tr>\n",
       "      <th>75%</th>\n",
       "      <td>6.000000</td>\n",
       "      <td>140.250000</td>\n",
       "      <td>80.000000</td>\n",
       "      <td>32.000000</td>\n",
       "      <td>127.250000</td>\n",
       "      <td>36.600000</td>\n",
       "      <td>0.626250</td>\n",
       "      <td>41.000000</td>\n",
       "      <td>1.000000</td>\n",
       "    </tr>\n",
       "    <tr>\n",
       "      <th>max</th>\n",
       "      <td>17.000000</td>\n",
       "      <td>199.000000</td>\n",
       "      <td>122.000000</td>\n",
       "      <td>99.000000</td>\n",
       "      <td>846.000000</td>\n",
       "      <td>67.100000</td>\n",
       "      <td>2.420000</td>\n",
       "      <td>81.000000</td>\n",
       "      <td>1.000000</td>\n",
       "    </tr>\n",
       "  </tbody>\n",
       "</table>\n",
       "</div>"
      ],
      "text/plain": [
       "       Pregnancies     Glucose  BloodPressure  SkinThickness     Insulin  \\\n",
       "count   768.000000  768.000000     768.000000     768.000000  768.000000   \n",
       "mean      3.845052  120.894531      69.105469      20.536458   79.799479   \n",
       "std       3.369578   31.972618      19.355807      15.952218  115.244002   \n",
       "min       0.000000    0.000000       0.000000       0.000000    0.000000   \n",
       "25%       1.000000   99.000000      62.000000       0.000000    0.000000   \n",
       "50%       3.000000  117.000000      72.000000      23.000000   30.500000   \n",
       "75%       6.000000  140.250000      80.000000      32.000000  127.250000   \n",
       "max      17.000000  199.000000     122.000000      99.000000  846.000000   \n",
       "\n",
       "              BMI  DiabetesPedigreeFunction         Age     Outcome  \n",
       "count  768.000000                768.000000  768.000000  768.000000  \n",
       "mean    31.992578                  0.471876   33.240885    0.348958  \n",
       "std      7.884160                  0.331329   11.760232    0.476951  \n",
       "min      0.000000                  0.078000   21.000000    0.000000  \n",
       "25%     27.300000                  0.243750   24.000000    0.000000  \n",
       "50%     32.000000                  0.372500   29.000000    0.000000  \n",
       "75%     36.600000                  0.626250   41.000000    1.000000  \n",
       "max     67.100000                  2.420000   81.000000    1.000000  "
      ]
     },
     "execution_count": 11,
     "metadata": {},
     "output_type": "execute_result"
    }
   ],
   "source": [
    "data.describe()"
   ]
  },
  {
   "cell_type": "code",
   "execution_count": 12,
   "id": "fd3648f9",
   "metadata": {},
   "outputs": [],
   "source": [
    "# it consist of count,mean,standard deviation,min,max values,percentiles"
   ]
  },
  {
   "cell_type": "code",
   "execution_count": 13,
   "id": "320112dd",
   "metadata": {},
   "outputs": [],
   "source": [
    "# as we know that there are no null values in this dataset but min consist of null values\n",
    "# therefore we have to replace these values with the mean,median or nan values. "
   ]
  },
  {
   "cell_type": "code",
   "execution_count": 14,
   "id": "ad65102d",
   "metadata": {},
   "outputs": [],
   "source": [
    "#for that we need to check the null values in it."
   ]
  },
  {
   "cell_type": "code",
   "execution_count": 15,
   "id": "09fd535d",
   "metadata": {},
   "outputs": [],
   "source": [
    "import numpy as np"
   ]
  },
  {
   "cell_type": "code",
   "execution_count": 16,
   "id": "c8c417be",
   "metadata": {},
   "outputs": [],
   "source": [
    "d1=data.copy(deep=True)"
   ]
  },
  {
   "cell_type": "code",
   "execution_count": 17,
   "id": "0624f496",
   "metadata": {},
   "outputs": [
    {
     "data": {
      "text/plain": [
       "Index(['Pregnancies', 'Glucose', 'BloodPressure', 'SkinThickness', 'Insulin',\n",
       "       'BMI', 'DiabetesPedigreeFunction', 'Age', 'Outcome'],\n",
       "      dtype='object')"
      ]
     },
     "execution_count": 17,
     "metadata": {},
     "output_type": "execute_result"
    }
   ],
   "source": [
    "d1.columns"
   ]
  },
  {
   "cell_type": "code",
   "execution_count": 18,
   "id": "4a27f92e",
   "metadata": {},
   "outputs": [],
   "source": [
    "d1[[ 'Glucose', 'BloodPressure', 'SkinThickness', 'Insulin',\n",
    "       'BMI']]=d1[[ 'Glucose', 'BloodPressure', 'SkinThickness', 'Insulin',\n",
    "       'BMI']].replace(0,np.nan)"
   ]
  },
  {
   "cell_type": "code",
   "execution_count": 19,
   "id": "f38f1b14",
   "metadata": {},
   "outputs": [],
   "source": [
    "# Here we store the changed values of the "
   ]
  },
  {
   "cell_type": "code",
   "execution_count": 20,
   "id": "8aee5649",
   "metadata": {},
   "outputs": [
    {
     "data": {
      "text/plain": [
       "Pregnancies                   0\n",
       "Glucose                       5\n",
       "BloodPressure                35\n",
       "SkinThickness               227\n",
       "Insulin                     374\n",
       "BMI                          11\n",
       "DiabetesPedigreeFunction      0\n",
       "Age                           0\n",
       "Outcome                       0\n",
       "dtype: int64"
      ]
     },
     "execution_count": 20,
     "metadata": {},
     "output_type": "execute_result"
    }
   ],
   "source": [
    "d1.isnull().sum()"
   ]
  },
  {
   "cell_type": "code",
   "execution_count": 21,
   "id": "16aec817",
   "metadata": {},
   "outputs": [],
   "source": [
    "data['Glucose']= data['Glucose'].replace(0,data['Glucose'].mean())\n",
    "data['BloodPressure']= data['BloodPressure'].replace(0,data['BloodPressure'].mean())\n",
    "data['Glucose']= data['Glucose'].replace(0,data['SkinThickness'].mean())\n",
    "data['Insulin']= data['Insulin'].replace(0,data['Insulin'].mean())\n",
    "data['BMI']= data['BMI'].replace(0,data['BMI'].mean())\n",
    "#we repalced the null value with mean value in every category."
   ]
  },
  {
   "cell_type": "markdown",
   "id": "82c13630",
   "metadata": {},
   "source": [
    "# 7. Store the Feature Matrix in x and Response(Target) in Vector y"
   ]
  },
  {
   "cell_type": "code",
   "execution_count": 22,
   "id": "686e6653",
   "metadata": {},
   "outputs": [],
   "source": [
    "x= data.drop('Outcome',axis=1)# Feature Matrix\n",
    "y=data['Outcome'] #Response Target"
   ]
  },
  {
   "cell_type": "markdown",
   "id": "1ccae8df",
   "metadata": {},
   "source": [
    "# 8. Splitting the Dataset into the Training Set and Test Set"
   ]
  },
  {
   "cell_type": "code",
   "execution_count": 23,
   "id": "40339181",
   "metadata": {},
   "outputs": [],
   "source": [
    "from sklearn.model_selection import train_test_split\n",
    "x_train,x_test,y_train,y_test=train_test_split(x,y,test_size=0.15,random_state=45)"
   ]
  },
  {
   "cell_type": "code",
   "execution_count": 24,
   "id": "96757d8d",
   "metadata": {},
   "outputs": [],
   "source": [
    "# we have set test size to 0.15 means that we are going to keep 15% for testing data and we will  train model on x_train and y_train "
   ]
  },
  {
   "cell_type": "code",
   "execution_count": 25,
   "id": "eccf4e06",
   "metadata": {},
   "outputs": [],
   "source": [
    "#We perform our prediction using x_test and compare our predictive result with y_test"
   ]
  },
  {
   "cell_type": "markdown",
   "id": "5996fc19",
   "metadata": {},
   "source": [
    "# 9. Scikit-Learn Pipeline"
   ]
  },
  {
   "cell_type": "code",
   "execution_count": 26,
   "id": "2cd43306",
   "metadata": {},
   "outputs": [],
   "source": [
    "# It change to multiple steps \n",
    "#Output of each step is used as Input to its next step\n",
    "# A Pipelining can involve Feature Processing Feature Selection,Classification,Regression and Post Processing"
   ]
  },
  {
   "cell_type": "code",
   "execution_count": 27,
   "id": "87f50834",
   "metadata": {},
   "outputs": [],
   "source": [
    "from sklearn.preprocessing import StandardScaler\n",
    "from sklearn.linear_model import LogisticRegression\n",
    "from sklearn.neighbors import KNeighborsClassifier\n",
    "from sklearn.svm import SVC\n",
    "\n",
    "from sklearn.tree import DecisionTreeClassifier\n",
    "from sklearn.ensemble import RandomForestClassifier\n",
    "from sklearn.ensemble import GradientBoostingClassifier\n",
    "\n",
    "from sklearn.pipeline import Pipeline"
   ]
  },
  {
   "cell_type": "code",
   "execution_count": 28,
   "id": "a519c7fb",
   "metadata": {},
   "outputs": [],
   "source": [
    "pipeline_lr = Pipeline([('scalar1',StandardScaler()),('lr_classifier',LogisticRegression())])\n",
    "# We have used Standard Scaler so as to put the features in the same scales as our data is in different scales\n",
    "# Its necessary to scale the value because features with the higher scale starts to dominate the features with the lower scale.\n",
    "# Machine Learning Algorithms which require feature scaling is Knearest Neighbour,Neural Networks,Support Vector Machine and Logistic Regression\n",
    "#Machine Learning Algorithms which not require feature scaling is Decision Trees,Random forest,adaboost\\\n",
    "pipeline_knn=Pipeline([('scalar2',StandardScaler()),('knn_classifier',KNeighborsClassifier())])\n",
    "\n",
    "pipeline_svc = Pipeline([('scalar3',StandardScaler()),('svc_classifier',SVC())])\n",
    "\n",
    "pipeline_dt= Pipeline([('dt_classifier',DecisionTreeClassifier())])\n",
    "pipeline_rf= Pipeline([('rf_classifier',RandomForestClassifier(max_depth=3))])\n",
    "pipeline_gb= Pipeline([('gb_classifier',GradientBoostingClassifier())])"
   ]
  },
  {
   "cell_type": "code",
   "execution_count": 29,
   "id": "343ea224",
   "metadata": {},
   "outputs": [],
   "source": [
    "#Creating a list for pipelines\n",
    "pipelines = [pipeline_lr,\n",
    "           pipeline_knn,\n",
    "           pipeline_svc,\n",
    "           pipeline_dt,\n",
    "           pipeline_rf,\n",
    "           pipeline_gb]"
   ]
  },
  {
   "cell_type": "code",
   "execution_count": 30,
   "id": "a22b630a",
   "metadata": {},
   "outputs": [
    {
     "data": {
      "text/plain": [
       "[Pipeline(steps=[('scalar1', StandardScaler()),\n",
       "                 ('lr_classifier', LogisticRegression())]),\n",
       " Pipeline(steps=[('scalar2', StandardScaler()),\n",
       "                 ('knn_classifier', KNeighborsClassifier())]),\n",
       " Pipeline(steps=[('scalar3', StandardScaler()), ('svc_classifier', SVC())]),\n",
       " Pipeline(steps=[('dt_classifier', DecisionTreeClassifier())]),\n",
       " Pipeline(steps=[('rf_classifier', RandomForestClassifier(max_depth=3))]),\n",
       " Pipeline(steps=[('gb_classifier', GradientBoostingClassifier())])]"
      ]
     },
     "execution_count": 30,
     "metadata": {},
     "output_type": "execute_result"
    }
   ],
   "source": [
    "pipelines"
   ]
  },
  {
   "cell_type": "code",
   "execution_count": 31,
   "id": "58682033",
   "metadata": {},
   "outputs": [],
   "source": [
    "for pipe in pipelines:\n",
    "    pipe.fit(x_train,y_train)"
   ]
  },
  {
   "cell_type": "code",
   "execution_count": 32,
   "id": "55510917",
   "metadata": {},
   "outputs": [],
   "source": [
    "# To find accurracy of our model\n",
    "\n",
    "pipe_dict={0:'LR',\n",
    "           1:'KNN',\n",
    "           2:'SVC',\n",
    "           3:'DT',\n",
    "           4:'RF',\n",
    "           5:'GB'}"
   ]
  },
  {
   "cell_type": "code",
   "execution_count": 33,
   "id": "bad4e39c",
   "metadata": {},
   "outputs": [
    {
     "data": {
      "text/plain": [
       "{0: 'LR', 1: 'KNN', 2: 'SVC', 3: 'DT', 4: 'RF', 5: 'GB'}"
      ]
     },
     "execution_count": 33,
     "metadata": {},
     "output_type": "execute_result"
    }
   ],
   "source": [
    "pipe_dict"
   ]
  },
  {
   "cell_type": "code",
   "execution_count": 34,
   "id": "5e10b7f8",
   "metadata": {},
   "outputs": [
    {
     "name": "stdout",
     "output_type": "stream",
     "text": [
      "LR Test Accuracy 0.7413793103448276\n",
      "KNN Test Accuracy 0.6982758620689655\n",
      "SVC Test Accuracy 0.7327586206896551\n",
      "DT Test Accuracy 0.6293103448275862\n",
      "RF Test Accuracy 0.7327586206896551\n",
      "GB Test Accuracy 0.7241379310344828\n"
     ]
    }
   ],
   "source": [
    "for i,model in enumerate(pipelines):\n",
    "    print(\"{} Test Accuracy {}\".format(pipe_dict[i],model.score(x_test,y_test)))"
   ]
  },
  {
   "cell_type": "code",
   "execution_count": 35,
   "id": "e74673cc",
   "metadata": {},
   "outputs": [],
   "source": [
    "#we have tuned our random forest classifier which gives us the higher accuracy"
   ]
  },
  {
   "cell_type": "code",
   "execution_count": 36,
   "id": "f9e06d27",
   "metadata": {},
   "outputs": [],
   "source": [
    "# Train our model with random forest\n",
    "from sklearn.ensemble import RandomForestClassifier"
   ]
  },
  {
   "cell_type": "code",
   "execution_count": 37,
   "id": "16054221",
   "metadata": {},
   "outputs": [],
   "source": [
    "x= data.drop('Outcome',axis=1)# Feature Matrix\n",
    "y=data['Outcome'] #Response Target"
   ]
  },
  {
   "cell_type": "code",
   "execution_count": 38,
   "id": "a2c4cc7d",
   "metadata": {},
   "outputs": [],
   "source": [
    "rf=RandomForestClassifier()"
   ]
  },
  {
   "cell_type": "code",
   "execution_count": 39,
   "id": "3e831cba",
   "metadata": {},
   "outputs": [
    {
     "data": {
      "text/plain": [
       "RandomForestClassifier()"
      ]
     },
     "execution_count": 39,
     "metadata": {},
     "output_type": "execute_result"
    }
   ],
   "source": [
    "rf.fit(x,y)"
   ]
  },
  {
   "cell_type": "markdown",
   "id": "07fc81cb",
   "metadata": {},
   "source": [
    " # Prediction on New Data"
   ]
  },
  {
   "cell_type": "code",
   "execution_count": 40,
   "id": "84d3e5ee",
   "metadata": {},
   "outputs": [],
   "source": [
    "new_data=pd.DataFrame({\n",
    "    'Preganancies':6,\n",
    "    'Glucose':148.0,\n",
    "    'BloodPressure':72.0,\n",
    "    'SkinThickness':35.0,\n",
    "    'Insulin':79.799479,\n",
    "    'BMI':33.6,\n",
    "    'DiabetesPredictionFunction':0.627,\n",
    "     'Age':50,},index=[0])"
   ]
  },
  {
   "cell_type": "code",
   "execution_count": 41,
   "id": "b97c342d",
   "metadata": {},
   "outputs": [
    {
     "data": {
      "text/plain": [
       "array([1], dtype=int64)"
      ]
     },
     "execution_count": 41,
     "metadata": {},
     "output_type": "execute_result"
    }
   ],
   "source": [
    "rf.predict(new_data)"
   ]
  },
  {
   "cell_type": "code",
   "execution_count": 42,
   "id": "d92b77e4",
   "metadata": {},
   "outputs": [],
   "source": [
    "#The 1 in the array shows that  the patient is diabetic"
   ]
  },
  {
   "cell_type": "code",
   "execution_count": 43,
   "id": "d435da3a",
   "metadata": {},
   "outputs": [],
   "source": [
    "p=rf.predict(new_data)"
   ]
  },
  {
   "cell_type": "code",
   "execution_count": 44,
   "id": "5581d3a6",
   "metadata": {},
   "outputs": [
    {
     "name": "stdout",
     "output_type": "stream",
     "text": [
      "diabetic\n"
     ]
    }
   ],
   "source": [
    "if p[0]==0:\n",
    "    print('non-diabetic')\n",
    "else:\n",
    "    print('diabetic')\n",
    "    "
   ]
  },
  {
   "cell_type": "markdown",
   "id": "b3401845",
   "metadata": {},
   "source": [
    "## Save Model Using Joblib"
   ]
  },
  {
   "cell_type": "code",
   "execution_count": 45,
   "id": "0c07ec7e",
   "metadata": {},
   "outputs": [],
   "source": [
    "# In joblib we will save our best model\n",
    "import joblib"
   ]
  },
  {
   "cell_type": "code",
   "execution_count": 46,
   "id": "ca2aae2d",
   "metadata": {},
   "outputs": [
    {
     "data": {
      "text/plain": [
       "['Diabetes_model']"
      ]
     },
     "execution_count": 46,
     "metadata": {},
     "output_type": "execute_result"
    }
   ],
   "source": [
    "joblib.dump(rf,'Diabetes_model')"
   ]
  },
  {
   "cell_type": "code",
   "execution_count": 47,
   "id": "ed10de1f",
   "metadata": {},
   "outputs": [],
   "source": [
    "#In future we can perform the prediction using this model\n",
    "model1=joblib.load('Diabetes_model')"
   ]
  },
  {
   "cell_type": "code",
   "execution_count": 48,
   "id": "c7ff6c7d",
   "metadata": {},
   "outputs": [
    {
     "data": {
      "text/plain": [
       "array([1], dtype=int64)"
      ]
     },
     "execution_count": 48,
     "metadata": {},
     "output_type": "execute_result"
    }
   ],
   "source": [
    "# Perform prediction using this save model\n",
    "model1.predict(new_data)"
   ]
  },
  {
   "cell_type": "markdown",
   "id": "58572647",
   "metadata": {},
   "source": [
    "# GUI Interface for the Model"
   ]
  },
  {
   "cell_type": "code",
   "execution_count": 49,
   "id": "140292b4",
   "metadata": {},
   "outputs": [],
   "source": [
    "from tkinter import *\n",
    "import joblib"
   ]
  },
  {
   "cell_type": "code",
   "execution_count": 50,
   "id": "f0863091",
   "metadata": {},
   "outputs": [],
   "source": [
    "from tkinter import *\n",
    "import joblib\n",
    "import numpy as np\n",
    "from sklearn import *\n",
    "def show_entry_fields():\n",
    "    p1=float(e1.get())\n",
    "    p2=float(e2.get())\n",
    "    p3=float(e3.get())\n",
    "    p4=float(e4.get())\n",
    "    p5=float(e5.get())\n",
    "    p6=float(e6.get())\n",
    "    p7=float(e7.get())\n",
    "    p8=float(e8.get())\n",
    "    model=joblib.load('Diabetes_model')\n",
    "    result=model.predict([[p1,p2,p3,p4,p5,p6,p7,p8]])\n",
    "    \n",
    "    if result ==0:\n",
    "        Label(master,text=\"Non-Diabetic\").grid(row=31)\n",
    "    else:\n",
    "        Label(master,text=\"Diabetic\").grid(row=31)\n",
    "master =Tk()\n",
    "master.title(\"Diabetes Prediction Using Machine Learning\")\n",
    "label=Label(master,text=\"Diabetes Pediction using Machine Learning\",bg=\"black\",fg=\"white\").grid(row=0,columnspan=2)\n",
    "Label(master,text=\"Preganancies\").grid(row=1)\n",
    "Label(master,text=\"Glucose\").grid(row=2)\n",
    "Label(master,text=\"Enter Value of Blood Pressure\").grid(row=3)\n",
    "Label(master,text=\"Enter Value of SkinThickness\").grid(row=4)\n",
    "Label(master,text=\"Enter the Value of Insulin\").grid(row=5)\n",
    "Label(master,text=\"Enter the Value of BMI\").grid(row=6)\n",
    "Label(master,text=\"Enter the Value of DiabetesPedigreeFunction\").grid(row=7)\n",
    "Label(master,text=\"Enter the Value of Age\").grid(row=8)\n",
    "\n",
    "e1=Entry(master)\n",
    "e2=Entry(master)\n",
    "e3=Entry(master)\n",
    "e4=Entry(master)\n",
    "e5=Entry(master)\n",
    "e6=Entry(master)\n",
    "e7=Entry(master)\n",
    "e8=Entry(master)\n",
    "\n",
    "\n",
    "e1.grid(row=1, column=1)\n",
    "e2.grid(row=2, column=1)\n",
    "e3.grid(row=3, column=1)\n",
    "e4.grid(row=4, column=1)\n",
    "e5.grid(row=5, column=1)\n",
    "e6.grid(row=6, column=1)\n",
    "e7.grid(row=7, column=1)\n",
    "e8.grid(row=8, column=1)\n",
    "\n",
    "Button(master, text='Predict', command=show_entry_fields).grid()\n",
    "mainloop()"
   ]
  },
  {
   "cell_type": "code",
   "execution_count": null,
   "id": "3557236b",
   "metadata": {},
   "outputs": [],
   "source": []
  }
 ],
 "metadata": {
  "kernelspec": {
   "display_name": "Python 3",
   "language": "python",
   "name": "python3"
  },
  "language_info": {
   "codemirror_mode": {
    "name": "ipython",
    "version": 3
   },
   "file_extension": ".py",
   "mimetype": "text/x-python",
   "name": "python",
   "nbconvert_exporter": "python",
   "pygments_lexer": "ipython3",
   "version": "3.8.8"
  }
 },
 "nbformat": 4,
 "nbformat_minor": 5
}
